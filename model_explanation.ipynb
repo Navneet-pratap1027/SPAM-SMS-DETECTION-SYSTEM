{
 "cells": [
  {
   "cell_type": "markdown",
   "id": "fdfbff68",
   "metadata": {},
   "source": [
    "# SPAM SMS DETECTION\n",
    "\n",
    " Build an AI model that can classify SMS messages as spam or\n",
    " legitimate. Use techniques like TF-IDF or word embeddings with\n",
    " classifiers like Naive Bayes, Logistic Regression, or Support Vector\n",
    " Machines to identify spam messages"
   ]
  },
  {
   "cell_type": "code",
   "execution_count": 11,
   "id": "d1bd7969",
   "metadata": {},
   "outputs": [],
   "source": [
    "## Importing libraries and models\n",
    "\n",
    "import pandas as pd\n",
    "import numpy as np \n",
    "from sklearn.linear_model import LogisticRegression\n",
    "from sklearn.naive_bayes import MultinomialNB\n",
    "from sklearn.svm import SVC\n",
    "from sklearn.feature_extraction.text import TfidfVectorizer\n",
    "from sklearn.metrics import accuracy_score,f1_score,recall_score,precision_score\n",
    "from sklearn.model_selection import train_test_split "
   ]
  },
  {
   "cell_type": "code",
   "execution_count": 12,
   "id": "3becc64c",
   "metadata": {},
   "outputs": [],
   "source": [
    "df = pd.read_csv('spam.csv', encoding='ISO-8859-1', usecols=[0, 1], names=['label', 'message'])"
   ]
  },
  {
   "cell_type": "code",
   "execution_count": 13,
   "id": "a826faa8",
   "metadata": {},
   "outputs": [
    {
     "data": {
      "text/html": [
       "<div>\n",
       "<style scoped>\n",
       "    .dataframe tbody tr th:only-of-type {\n",
       "        vertical-align: middle;\n",
       "    }\n",
       "\n",
       "    .dataframe tbody tr th {\n",
       "        vertical-align: top;\n",
       "    }\n",
       "\n",
       "    .dataframe thead th {\n",
       "        text-align: right;\n",
       "    }\n",
       "</style>\n",
       "<table border=\"1\" class=\"dataframe\">\n",
       "  <thead>\n",
       "    <tr style=\"text-align: right;\">\n",
       "      <th></th>\n",
       "      <th>label</th>\n",
       "      <th>message</th>\n",
       "    </tr>\n",
       "  </thead>\n",
       "  <tbody>\n",
       "    <tr>\n",
       "      <th>0</th>\n",
       "      <td>v1</td>\n",
       "      <td>v2</td>\n",
       "    </tr>\n",
       "    <tr>\n",
       "      <th>1</th>\n",
       "      <td>ham</td>\n",
       "      <td>Go until jurong point, crazy.. Available only ...</td>\n",
       "    </tr>\n",
       "    <tr>\n",
       "      <th>2</th>\n",
       "      <td>ham</td>\n",
       "      <td>Ok lar... Joking wif u oni...</td>\n",
       "    </tr>\n",
       "    <tr>\n",
       "      <th>3</th>\n",
       "      <td>spam</td>\n",
       "      <td>Free entry in 2 a wkly comp to win FA Cup fina...</td>\n",
       "    </tr>\n",
       "    <tr>\n",
       "      <th>4</th>\n",
       "      <td>ham</td>\n",
       "      <td>U dun say so early hor... U c already then say...</td>\n",
       "    </tr>\n",
       "  </tbody>\n",
       "</table>\n",
       "</div>"
      ],
      "text/plain": [
       "  label                                            message\n",
       "0    v1                                                 v2\n",
       "1   ham  Go until jurong point, crazy.. Available only ...\n",
       "2   ham                      Ok lar... Joking wif u oni...\n",
       "3  spam  Free entry in 2 a wkly comp to win FA Cup fina...\n",
       "4   ham  U dun say so early hor... U c already then say..."
      ]
     },
     "execution_count": 13,
     "metadata": {},
     "output_type": "execute_result"
    }
   ],
   "source": [
    "df.head()"
   ]
  },
  {
   "cell_type": "code",
   "execution_count": 14,
   "id": "cd50f0a0",
   "metadata": {},
   "outputs": [],
   "source": [
    "df.drop(0,inplace=True)"
   ]
  },
  {
   "cell_type": "code",
   "execution_count": 15,
   "id": "7f2a50b7",
   "metadata": {},
   "outputs": [
    {
     "data": {
      "text/html": [
       "<div>\n",
       "<style scoped>\n",
       "    .dataframe tbody tr th:only-of-type {\n",
       "        vertical-align: middle;\n",
       "    }\n",
       "\n",
       "    .dataframe tbody tr th {\n",
       "        vertical-align: top;\n",
       "    }\n",
       "\n",
       "    .dataframe thead th {\n",
       "        text-align: right;\n",
       "    }\n",
       "</style>\n",
       "<table border=\"1\" class=\"dataframe\">\n",
       "  <thead>\n",
       "    <tr style=\"text-align: right;\">\n",
       "      <th></th>\n",
       "      <th>label</th>\n",
       "      <th>message</th>\n",
       "    </tr>\n",
       "  </thead>\n",
       "  <tbody>\n",
       "    <tr>\n",
       "      <th>1</th>\n",
       "      <td>ham</td>\n",
       "      <td>Go until jurong point, crazy.. Available only ...</td>\n",
       "    </tr>\n",
       "    <tr>\n",
       "      <th>2</th>\n",
       "      <td>ham</td>\n",
       "      <td>Ok lar... Joking wif u oni...</td>\n",
       "    </tr>\n",
       "    <tr>\n",
       "      <th>3</th>\n",
       "      <td>spam</td>\n",
       "      <td>Free entry in 2 a wkly comp to win FA Cup fina...</td>\n",
       "    </tr>\n",
       "    <tr>\n",
       "      <th>4</th>\n",
       "      <td>ham</td>\n",
       "      <td>U dun say so early hor... U c already then say...</td>\n",
       "    </tr>\n",
       "    <tr>\n",
       "      <th>5</th>\n",
       "      <td>ham</td>\n",
       "      <td>Nah I don't think he goes to usf, he lives aro...</td>\n",
       "    </tr>\n",
       "  </tbody>\n",
       "</table>\n",
       "</div>"
      ],
      "text/plain": [
       "  label                                            message\n",
       "1   ham  Go until jurong point, crazy.. Available only ...\n",
       "2   ham                      Ok lar... Joking wif u oni...\n",
       "3  spam  Free entry in 2 a wkly comp to win FA Cup fina...\n",
       "4   ham  U dun say so early hor... U c already then say...\n",
       "5   ham  Nah I don't think he goes to usf, he lives aro..."
      ]
     },
     "execution_count": 15,
     "metadata": {},
     "output_type": "execute_result"
    }
   ],
   "source": [
    "df.head()"
   ]
  },
  {
   "cell_type": "code",
   "execution_count": 16,
   "id": "5e572448",
   "metadata": {},
   "outputs": [],
   "source": [
    "X=df.message"
   ]
  },
  {
   "cell_type": "code",
   "execution_count": 17,
   "id": "aeae73c2",
   "metadata": {},
   "outputs": [],
   "source": [
    "## spam=0,ham=1\n",
    "y = np.where(df['label'].str.contains('spam'), 0, 1)"
   ]
  },
  {
   "cell_type": "code",
   "execution_count": 18,
   "id": "23856bd7",
   "metadata": {},
   "outputs": [],
   "source": [
    "## spliting the data\n",
    "\n",
    "X_train,X_test,y_train,y_test=train_test_split(X,y,test_size=.3,random_state=42)"
   ]
  },
  {
   "cell_type": "code",
   "execution_count": 19,
   "id": "64c0d711",
   "metadata": {},
   "outputs": [],
   "source": [
    "## Data encoding\n",
    "tfidf = TfidfVectorizer(stop_words='english', max_features=5000)\n",
    "X_train = tfidf.fit_transform(X_train)\n",
    "X_test = tfidf.transform(X_test)"
   ]
  },
  {
   "cell_type": "code",
   "execution_count": 20,
   "id": "2e6df15b",
   "metadata": {},
   "outputs": [
    {
     "name": "stdout",
     "output_type": "stream",
     "text": [
      "Logistic-Regression\n",
      "Model performance for Training set\n",
      "- Accuracy: 0.9718\n",
      "- F1 score: 0.9704\n",
      "- Precision: 0.9725\n",
      "- Recall: 0.9718\n",
      "----------------------------------\n",
      "Model performance for Test set\n",
      "- Accuracy: 0.9551\n",
      "- F1 score: 0.9515\n",
      "- Precision: 0.9563\n",
      "- Recall: 0.9551\n",
      "===================================\n",
      "\n",
      "\n",
      "Naive-Bayes\n",
      "Model performance for Training set\n",
      "- Accuracy: 0.9851\n",
      "- F1 score: 0.9848\n",
      "- Precision: 0.9854\n",
      "- Recall: 0.9851\n",
      "----------------------------------\n",
      "Model performance for Test set\n",
      "- Accuracy: 0.9713\n",
      "- F1 score: 0.9698\n",
      "- Precision: 0.9722\n",
      "- Recall: 0.9713\n",
      "===================================\n",
      "\n",
      "\n",
      "Support-Vector-Machine\n",
      "Model performance for Training set\n",
      "- Accuracy: 0.9972\n",
      "- F1 score: 0.9972\n",
      "- Precision: 0.9972\n",
      "- Recall: 0.9972\n",
      "----------------------------------\n",
      "Model performance for Test set\n",
      "- Accuracy: 0.9797\n",
      "- F1 score: 0.9791\n",
      "- Precision: 0.9797\n",
      "- Recall: 0.9797\n",
      "===================================\n",
      "\n",
      "\n"
     ]
    }
   ],
   "source": [
    "## Model training and metric evaluation\n",
    "\n",
    "\n",
    "models={\n",
    "    \"Logistic-Regression\" : LogisticRegression(),\n",
    "    \"Naive-Bayes\" : MultinomialNB(),\n",
    "    \"Support-Vector-Machine\" : SVC(kernel=\"linear\")\n",
    "}\n",
    "\n",
    "\n",
    "for i in range(len(list(models))):\n",
    "    model=list(models.values())[i]\n",
    "    model.fit(X_train,y_train)\n",
    "    \n",
    "    \n",
    "    \n",
    "    ## Make Prediction\n",
    "    y_predict_train=model.predict(X_train)\n",
    "    y_predict_test=model.predict(X_test)\n",
    "    \n",
    "    \n",
    "    ## Train set performance\n",
    "    y_predict_train_accuracy=accuracy_score(y_train,y_predict_train)\n",
    "    y_predict_train_f1_score=f1_score(y_train,y_predict_train,average='weighted',zero_division=0)\n",
    "    y_predict_train_precision=precision_score(y_train,y_predict_train,average='weighted',zero_division=0)\n",
    "    y_predict_train_recall=recall_score(y_train,y_predict_train,average='weighted',zero_division=0)\n",
    "    \n",
    "    ## Test set performance\n",
    "    y_predict_test_accuracy=accuracy_score(y_test,y_predict_test)\n",
    "    y_predict_test_f1_score=f1_score(y_test,y_predict_test,average='weighted')\n",
    "    y_predict_test_precision=precision_score(y_test,y_predict_test,average='weighted')\n",
    "    y_predict_test_recall=recall_score(y_test,y_predict_test,average='weighted')\n",
    "    \n",
    "    print(list(models.keys())[i])\n",
    "    \n",
    "    print('Model performance for Training set')\n",
    "    print(\"- Accuracy: {:.4f}\".format(y_predict_train_accuracy))\n",
    "    print('- F1 score: {:.4f}'.format(y_predict_train_f1_score))\n",
    "    \n",
    "    print('- Precision: {:.4f}'.format(y_predict_train_precision))\n",
    "    print('- Recall: {:.4f}'.format(y_predict_train_recall))\n",
    "\n",
    "    \n",
    "    \n",
    "    print('----------------------------------')\n",
    "    \n",
    "    print('Model performance for Test set')\n",
    "    print('- Accuracy: {:.4f}'.format(y_predict_test_accuracy))\n",
    "    print('- F1 score: {:.4f}'.format(y_predict_test_f1_score))\n",
    "    print('- Precision: {:.4f}'.format(y_predict_test_precision))\n",
    "    print('- Recall: {:.4f}'.format(y_predict_test_recall))\n",
    "\n",
    "    \n",
    "    print('='*35)\n",
    "    print('\\n')\n",
    "    \n",
    "    \n"
   ]
  },
  {
   "cell_type": "code",
   "execution_count": null,
   "id": "c9151c1c",
   "metadata": {},
   "outputs": [],
   "source": []
  },
  {
   "cell_type": "code",
   "execution_count": null,
   "metadata": {},
   "outputs": [],
   "source": []
  },
  {
   "cell_type": "code",
   "execution_count": null,
   "id": "763bd28d",
   "metadata": {},
   "outputs": [],
   "source": []
  }
 ],
 "metadata": {
  "kernelspec": {
   "display_name": "Python 3",
   "language": "python",
   "name": "python3"
  },
  "language_info": {
   "codemirror_mode": {
    "name": "ipython",
    "version": 3
   },
   "file_extension": ".py",
   "mimetype": "text/x-python",
   "name": "python",
   "nbconvert_exporter": "python",
   "pygments_lexer": "ipython3",
   "version": "3.13.5"
  }
 },
 "nbformat": 4,
 "nbformat_minor": 5
}
